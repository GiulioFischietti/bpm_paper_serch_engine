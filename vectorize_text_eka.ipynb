{
 "cells": [
  {
   "cell_type": "code",
   "execution_count": 1,
   "metadata": {},
   "outputs": [],
   "source": [
    "import sys\n",
    "sys.path.append(\"..\")\n",
    "\n",
    "import json\n",
    "\n",
    "import numpy as np\n",
    "import pandas as pd\n",
    "import torch\n",
    "\n",
    "from qdrant_client import QdrantClient\n",
    "from qdrant_client.http import models\n",
    "\n",
    "from tqdm.notebook import tqdm\n",
    "\n",
    "from config import QDRANT_HOST, QDRANT_PORT, QDRANT_API_KEY, OPENAI_API_KEY, DATA, COLLECTION_NAME\n"
   ]
  },
  {
   "attachments": {},
   "cell_type": "markdown",
   "metadata": {},
   "source": [
    "## Connect to Qdrant and create collection\n"
   ]
  },
  {
   "cell_type": "code",
   "execution_count": 12,
   "metadata": {},
   "outputs": [
    {
     "data": {
      "text/plain": [
       "True"
      ]
     },
     "execution_count": 12,
     "metadata": {},
     "output_type": "execute_result"
    }
   ],
   "source": [
    "qdrantClient = QdrantClient(host=QDRANT_HOST, port=QDRANT_PORT, api_key=QDRANT_API_KEY)\n",
    "qdrantClient.recreate_collection(\n",
    "    collection_name=\"paper_test_extracted\",\n",
    "    vectors_config=models.VectorParams(size=384, distance=models.Distance.COSINE),\n",
    ")\n"
   ]
  },
  {
   "attachments": {},
   "cell_type": "markdown",
   "metadata": {},
   "source": [
    "## Load Data into DataFrame\n"
   ]
  },
  {
   "cell_type": "code",
   "execution_count": 3,
   "metadata": {},
   "outputs": [
    {
     "data": {
      "application/vnd.jupyter.widget-view+json": {
       "model_id": "93a52b2d3aa84958be2d7b4f5d547e71",
       "version_major": 2,
       "version_minor": 0
      },
      "text/plain": [
       "  0%|          | 0/115 [00:00<?, ?it/s]"
      ]
     },
     "metadata": {},
     "output_type": "display_data"
    }
   ],
   "source": [
    "from pymongo import MongoClient\n",
    "\n",
    "client = MongoClient('localhost', 27017)\n",
    "db = client.scientific_articles\n",
    "articles_collection = db.articles\n",
    "\n",
    "articles_json = list(articles_collection.find({\"sentences\": {\"$exists\": True}}))\n",
    "\n",
    "\n",
    "rows = []\n",
    "for paper in tqdm(articles_json):\n",
    "    for sentence in paper['sentences']:\n",
    "        rows.append(\n",
    "            (\n",
    "                paper[\"title\"],\n",
    "                paper[\"link\"],\n",
    "                sentence\n",
    "            )\n",
    "        )\n",
    "\n",
    "df = pd.DataFrame(data=rows, columns=[\"title\", \"link\", \"sentence\"])"
   ]
  },
  {
   "cell_type": "code",
   "execution_count": 6,
   "metadata": {},
   "outputs": [
    {
     "data": {
      "text/html": [
       "<div>\n",
       "<style scoped>\n",
       "    .dataframe tbody tr th:only-of-type {\n",
       "        vertical-align: middle;\n",
       "    }\n",
       "\n",
       "    .dataframe tbody tr th {\n",
       "        vertical-align: top;\n",
       "    }\n",
       "\n",
       "    .dataframe thead th {\n",
       "        text-align: right;\n",
       "    }\n",
       "</style>\n",
       "<table border=\"1\" class=\"dataframe\">\n",
       "  <thead>\n",
       "    <tr style=\"text-align: right;\">\n",
       "      <th></th>\n",
       "      <th>title</th>\n",
       "      <th>link</th>\n",
       "      <th>sentence</th>\n",
       "    </tr>\n",
       "  </thead>\n",
       "  <tbody>\n",
       "    <tr>\n",
       "      <th>0</th>\n",
       "      <td>Smart wound dressing for advanced wound manage...</td>\n",
       "      <td>https://www.sciencedirect.com/science/article/...</td>\n",
       "      <td>The skin plays an important role in detecting...</td>\n",
       "    </tr>\n",
       "    <tr>\n",
       "      <th>1</th>\n",
       "      <td>Smart wound dressing for advanced wound manage...</td>\n",
       "      <td>https://www.sciencedirect.com/science/article/...</td>\n",
       "      <td>The all-in-one smart wound dressings integrat...</td>\n",
       "    </tr>\n",
       "    <tr>\n",
       "      <th>2</th>\n",
       "      <td>Smart wound dressing for advanced wound manage...</td>\n",
       "      <td>https://www.sciencedirect.com/science/article/...</td>\n",
       "      <td>Local vasodilatation and angiogenesis can incr...</td>\n",
       "    </tr>\n",
       "    <tr>\n",
       "      <th>3</th>\n",
       "      <td>Smart wound dressing for advanced wound manage...</td>\n",
       "      <td>https://www.sciencedirect.com/science/article/...</td>\n",
       "      <td>Oxygen is necessary for wound healing as it s...</td>\n",
       "    </tr>\n",
       "    <tr>\n",
       "      <th>4</th>\n",
       "      <td>Smart wound dressing for advanced wound manage...</td>\n",
       "      <td>https://www.sciencedirect.com/science/article/...</td>\n",
       "      <td>The color change of the pH sensors was acquir...</td>\n",
       "    </tr>\n",
       "    <tr>\n",
       "      <th>5</th>\n",
       "      <td>Smart wound dressing for advanced wound manage...</td>\n",
       "      <td>https://www.sciencedirect.com/science/article/...</td>\n",
       "      <td>A novel bacterial self-reporting platform was...</td>\n",
       "    </tr>\n",
       "    <tr>\n",
       "      <th>6</th>\n",
       "      <td>Smart wound dressing for advanced wound manage...</td>\n",
       "      <td>https://www.sciencedirect.com/science/article/...</td>\n",
       "      <td>The pH data in their study could not be wirel...</td>\n",
       "    </tr>\n",
       "    <tr>\n",
       "      <th>7</th>\n",
       "      <td>Smart wound dressing for advanced wound manage...</td>\n",
       "      <td>https://www.sciencedirect.com/science/article/...</td>\n",
       "      <td>The reported smart dressing could monitor the...</td>\n",
       "    </tr>\n",
       "    <tr>\n",
       "      <th>8</th>\n",
       "      <td>Smart wound dressing for advanced wound manage...</td>\n",
       "      <td>https://www.sciencedirect.com/science/article/...</td>\n",
       "      <td>The long-term continuous monitoring of wound ...</td>\n",
       "    </tr>\n",
       "    <tr>\n",
       "      <th>9</th>\n",
       "      <td>Smart wound dressing for advanced wound manage...</td>\n",
       "      <td>https://www.sciencedirect.com/science/article/...</td>\n",
       "      <td>W wound dressing can release drugs or deliver ...</td>\n",
       "    </tr>\n",
       "  </tbody>\n",
       "</table>\n",
       "</div>"
      ],
      "text/plain": [
       "                                               title  \\\n",
       "0  Smart wound dressing for advanced wound manage...   \n",
       "1  Smart wound dressing for advanced wound manage...   \n",
       "2  Smart wound dressing for advanced wound manage...   \n",
       "3  Smart wound dressing for advanced wound manage...   \n",
       "4  Smart wound dressing for advanced wound manage...   \n",
       "5  Smart wound dressing for advanced wound manage...   \n",
       "6  Smart wound dressing for advanced wound manage...   \n",
       "7  Smart wound dressing for advanced wound manage...   \n",
       "8  Smart wound dressing for advanced wound manage...   \n",
       "9  Smart wound dressing for advanced wound manage...   \n",
       "\n",
       "                                                link  \\\n",
       "0  https://www.sciencedirect.com/science/article/...   \n",
       "1  https://www.sciencedirect.com/science/article/...   \n",
       "2  https://www.sciencedirect.com/science/article/...   \n",
       "3  https://www.sciencedirect.com/science/article/...   \n",
       "4  https://www.sciencedirect.com/science/article/...   \n",
       "5  https://www.sciencedirect.com/science/article/...   \n",
       "6  https://www.sciencedirect.com/science/article/...   \n",
       "7  https://www.sciencedirect.com/science/article/...   \n",
       "8  https://www.sciencedirect.com/science/article/...   \n",
       "9  https://www.sciencedirect.com/science/article/...   \n",
       "\n",
       "                                            sentence  \n",
       "0   The skin plays an important role in detecting...  \n",
       "1   The all-in-one smart wound dressings integrat...  \n",
       "2  Local vasodilatation and angiogenesis can incr...  \n",
       "3   Oxygen is necessary for wound healing as it s...  \n",
       "4   The color change of the pH sensors was acquir...  \n",
       "5   A novel bacterial self-reporting platform was...  \n",
       "6   The pH data in their study could not be wirel...  \n",
       "7   The reported smart dressing could monitor the...  \n",
       "8   The long-term continuous monitoring of wound ...  \n",
       "9  W wound dressing can release drugs or deliver ...  "
      ]
     },
     "execution_count": 6,
     "metadata": {},
     "output_type": "execute_result"
    }
   ],
   "source": [
    "df[0:10]"
   ]
  },
  {
   "attachments": {},
   "cell_type": "markdown",
   "metadata": {},
   "source": [
    "# Instanciate Model"
   ]
  },
  {
   "cell_type": "code",
   "execution_count": 7,
   "metadata": {},
   "outputs": [],
   "source": [
    "from sentence_transformers import SentenceTransformer\n",
    "\n",
    "model = SentenceTransformer(\n",
    "    \"msmarco-MiniLM-L-6-v3\",\n",
    "    device=\"cuda\"\n",
    "    if torch.cuda.is_available()\n",
    "    else \"mps\"\n",
    "    if torch.backends.mps.is_available()\n",
    "    else \"cpu\",\n",
    ")"
   ]
  },
  {
   "attachments": {},
   "cell_type": "markdown",
   "metadata": {},
   "source": [
    "## Vectorize docs\n"
   ]
  },
  {
   "cell_type": "code",
   "execution_count": 8,
   "metadata": {},
   "outputs": [
    {
     "data": {
      "application/vnd.jupyter.widget-view+json": {
       "model_id": "0214dc23206b478babfb34da08e1a314",
       "version_major": 2,
       "version_minor": 0
      },
      "text/plain": [
       "  0%|          | 0/797 [00:00<?, ?it/s]"
      ]
     },
     "metadata": {},
     "output_type": "display_data"
    }
   ],
   "source": [
    "vectors = []\n",
    "\n",
    "for doc in tqdm(df[\"sentence\"].to_list()):\n",
    "    vectors.append(model.encode(doc))"
   ]
  },
  {
   "cell_type": "code",
   "execution_count": 9,
   "metadata": {},
   "outputs": [
    {
     "name": "stdout",
     "output_type": "stream",
     "text": [
      "797\n"
     ]
    }
   ],
   "source": [
    "print(len(vectors))"
   ]
  },
  {
   "cell_type": "code",
   "execution_count": null,
   "metadata": {},
   "outputs": [],
   "source": [
    "nsplit = 100\n",
    "batch_load_step = int(df.shape[0]/nsplit)\n",
    "\n",
    "for index in list(range(nsplit)):\n",
    "    print(vectors[batch_load_step*index:batch_load_step*(index+1)])"
   ]
  },
  {
   "cell_type": "code",
   "execution_count": 13,
   "metadata": {},
   "outputs": [
    {
     "data": {
      "text/plain": [
       "CollectionsResponse(collections=[CollectionDescription(name='papers'), CollectionDescription(name='paper_test_extracted')])"
      ]
     },
     "execution_count": 13,
     "metadata": {},
     "output_type": "execute_result"
    }
   ],
   "source": [
    "qdrantClient.get_collections()"
   ]
  },
  {
   "cell_type": "code",
   "execution_count": 72,
   "metadata": {},
   "outputs": [
    {
     "data": {
      "text/plain": [
       "True"
      ]
     },
     "execution_count": 72,
     "metadata": {},
     "output_type": "execute_result"
    }
   ],
   "source": [
    "qdrantClient.delete_collection(collection_name=\"papers\")"
   ]
  },
  {
   "cell_type": "code",
   "execution_count": 73,
   "metadata": {},
   "outputs": [
    {
     "data": {
      "text/plain": [
       "True"
      ]
     },
     "execution_count": 73,
     "metadata": {},
     "output_type": "execute_result"
    }
   ],
   "source": [
    "client.recreate_collection(\n",
    "    collection_name=\"papers\",\n",
    "    vectors_config=models.VectorParams(size=384, distance=models.Distance.COSINE),\n",
    ")"
   ]
  },
  {
   "attachments": {},
   "cell_type": "markdown",
   "metadata": {},
   "source": [
    "## Load data on Qdrant search engine"
   ]
  },
  {
   "cell_type": "code",
   "execution_count": null,
   "metadata": {},
   "outputs": [],
   "source": [
    "for index in list(range(nsplit)):\n",
    "    for _, row in df.iloc[list(range(batch_load_step*index, batch_load_step*(index+1)))].iterrows():\n",
    "        print(row['title'])"
   ]
  },
  {
   "cell_type": "code",
   "execution_count": null,
   "metadata": {},
   "outputs": [],
   "source": [
    "for vec in vectors:\n",
    "    print((list(vec)))"
   ]
  },
  {
   "cell_type": "code",
   "execution_count": 18,
   "metadata": {},
   "outputs": [
    {
     "data": {
      "application/vnd.jupyter.widget-view+json": {
       "model_id": "bbcea3822ff4418880fab1729cd01f95",
       "version_major": 2,
       "version_minor": 0
      },
      "text/plain": [
       "  0%|          | 0/100 [00:00<?, ?it/s]"
      ]
     },
     "metadata": {},
     "output_type": "display_data"
    }
   ],
   "source": [
    "for index in tqdm(list(range(nsplit))):\n",
    "    qdrantClient.upsert(\n",
    "        collection_name=\"paper_test_extracted\",\n",
    "        points=models.Batch(\n",
    "            ids=list(range(batch_load_step*index, batch_load_step*(index+1))),\n",
    "            payloads=[\n",
    "                {\n",
    "                    \"link\": row[\"link\"],\n",
    "                    \"title\": row[\"title\"],\n",
    "                    \"sentence\": row[\"sentence\"],\n",
    "                }\n",
    "                for _, row in df.iloc[list(range(batch_load_step*index, batch_load_step*(index+1)))].iterrows()\n",
    "            ],\n",
    "            vectors= [vec.tolist() for vec in vectors[batch_load_step*index:batch_load_step*(index+1)]],\n",
    "        ),\n",
    "    )"
   ]
  },
  {
   "cell_type": "code",
   "execution_count": 35,
   "metadata": {},
   "outputs": [
    {
     "name": "stdout",
     "output_type": "stream",
     "text": [
      "Stored 'query' (str)\n"
     ]
    }
   ],
   "source": [
    "query = \"methods for artificial intelligence image processing\"\n",
    "%store query"
   ]
  },
  {
   "cell_type": "code",
   "execution_count": 36,
   "metadata": {},
   "outputs": [
    {
     "name": "stdout",
     "output_type": "stream",
     "text": [
      "Stored 'similar_docs' (list)\n"
     ]
    }
   ],
   "source": [
    "similar_docs = qdrantClient.search(\n",
    "        collection_name=\"paper_test_extracted\",\n",
    "        query_vector=model.encode(query),\n",
    "        limit=20,\n",
    "        append_payload=True,\n",
    "    )\n",
    "\n",
    "%store similar_docs"
   ]
  },
  {
   "cell_type": "code",
   "execution_count": 37,
   "metadata": {},
   "outputs": [
    {
     "name": "stdout",
     "output_type": "stream",
     "text": [
      "[0.5954349]  Researchers are actively using AI techniques for data leakage prevention, intelligent e-mail protection, malicious domain blocking and reporting to ensure data confidentiality, integrity and availability. Data leakage prevention deals with the detection and protection of data breaches, exfiltration or the unwanted destruction of data. AI techniques are used for monitoring data access, data movement and user activity\n",
      "[0.5064325]  The use of artificial intelligence (AI) in medical imaging is becoming increasingly popular as the technology improves. In the United States, under the regulatory authority of the Food and Drug Administration (FDA) every clinical AI software system is regulated as a medical device\n",
      "[0.49403715]  The effect-visualizations of each parameter by SHAP, an AI model analysis tool, on the ANN114 data-driven model, can be explained by the relatively slower electrochemical reaction rate. The multi-objective optimization process was conducted by PSO with a comprehensive optimization object formed by linear weight the performance and oxygen distribution\n",
      "[0.47371447] Automated security control validation will provide the real-time monitoring of security in a changing environment and threat landscape. Researchers are working on the implementation of AI techniques for a definitive assessment of the overall security of the system using a network's telescope data. The automation of security controlvalidation will provide real- time monitoring of the security of security\n",
      "[0.4667092]  The accuracy of AI in the mild, moderate, and severe TSS groups was high (98.4%, 96.7%, and 97.2%, respectively), with a P value of.375. Artificial intelligence accuracy was not significantly affected by BMI (area under the curve, 0.584; P=\n",
      "[0.4648123]  The threat intelligence tools targeting a specific language to help threat intelligence professionals gain a better insight into cyber threats in their local language for country-specific knowledge. Tsai et al. developed an automated system to analyse Chinese cyber threat intelligence to increase the threat intelligence visibility. This includes the development of an automatic classification system, a recommendation system and threat-labelling techniques\n",
      "[0.4612419]  AI techniques are leveraged to develop an automated system for identifying potential attack options, input generation, the generation of probable test cases and analysing crashes. Test case generation is one of the most widely studied fields of AI-based fuzzing for web browsers. Researchers are working on automatic vulnerability classification systems and for labelling vulnerability descriptions in vulnerability reports\n",
      "[0.45683104]  This paper reports an experimental comparison of the state-of-the-art scene graphs and scene layout-based image generation methods. It provides a comprehensive knowledge about training of SG2I and SL2I algorithms. The results of the compared methods are discussed in Section 8 while concluding remarks are presented in Section 10\n",
      "[0.44571352] Common forms of intelligence include imagery intelligence (IMINT), signals intelligence (SIGINT), and human intelligence (HUMINT) Social media intelligence has been gradually accepted as a form of intelligence during the past decade. In modern days, the intelligence community has started to value social media as an important and reliable source of intelligence because of so much human activity on these platforms\n",
      "[0.44356844] Artificial intelligence (AI) encompasses a broad field of research and engineering geared toward the creation of ‘intelligent machines’ Various AI applications have been employed in the field of radiology over the years\n",
      "[0.44334278] The original AOA and ten well-known metaheuristic methods: salp swarm algorithm (SSA), particle swarm optimization (PSO) and biogeography-based optimization (BBO) The proposed algorithm provided the lowest standard deviation on five benchmark functions, followed by Aoa and EHOI\n",
      "[0.44066894] The five algorithms were trained using the oversampled train set and development set, and performance was evaluated on the test set. All features were used to train SVM and the neural network. The most meaningful features selected by each algorithm are shown in the Appendix. Adaboost attained the highest less difficult class accuracies in development and testing\n",
      "[0.43594313] The ResNet (residual networks) won the ImageNet challenge in 2015 and was proposed by He et al. The model can be applied as a helpful tool for the feature extractor of new images. The inner workings of AI systems comprise complicated mathematical and statistical processes, which are not interpretable\n",
      "[0.4353704]  Future AI research for cybersecurity can look at how interpretable and explicable AI can improve an algorithm's performance and open their black-box character to minimize constraints. The breadth, scope and depth of human-AI interaction in critical and fundamental cybersecurity tasks has not yet been adequately researched, but this is sorely needed\n",
      "[0.43259907]  The simplicity of the used DNN and the small number of trainable parameters helps to avoid overfitting and, thus, improve generalization. The pixel-based dataset contains millions of well-mixed samples (pixels) and even when the input images correspond to a uniform grid in substrate-energy-dose space\n",
      "[0.43196958]  The authors declare that they have no known competing financial interests or personal relationships that could have appeared to influence the work reported in this paper. The experiment part utilizes information from wearable medical sensors to demonstrate the framework's effectiveness. Based on a research study, the edge cooperative optimization algorithm's viability is therefore confirmed\n",
      "[0.42712212] The image quality of all generated images by the four methods needs to be quantitatively measured, and for this reason, different image quality evaluation metrics have been used by different methods\n",
      "[0.41934437]  In heuristic based learning algorithms, the premise and consequence parameter sets are trained with the same algorithm. The commonly used heuristic algorithms used in hybrid training algorithms include GA and PSO\n",
      "[0.40968692] Automated analysis tools are needed to identify the potential threats by analysing the language and targets of hackers without manually monitoring the large volume of posts made on the dark web\n",
      "[0.4087419] In recent years, using multiple mobile sensors or robots has gained increasing attention due to demand from various applications. Mobile sensors and robots are also being used in underwater environments for various applications such as ocean exploration, marine life monitoring, and underwater infrastructure inspection. This paper proposes a new localization method, namely the low-rank approximated least-squares localization algorithm\n"
     ]
    }
   ],
   "source": [
    "for doc in similar_docs: \n",
    "    print(\"[\" + str(doc.score) + '] ' + doc.payload['sentence'])"
   ]
  }
 ],
 "metadata": {
  "kernelspec": {
   "display_name": ".venv",
   "language": "python",
   "name": "python3"
  },
  "language_info": {
   "codemirror_mode": {
    "name": "ipython",
    "version": 3
   },
   "file_extension": ".py",
   "mimetype": "text/x-python",
   "name": "python",
   "nbconvert_exporter": "python",
   "pygments_lexer": "ipython3",
   "version": "3.10.9"
  },
  "orig_nbformat": 4,
  "vscode": {
   "interpreter": {
    "hash": "7f7d7ce7694bb4f4c294d506e5b6dc7957106f5332d820f0757e3d8cd7b1bbf8"
   }
  }
 },
 "nbformat": 4,
 "nbformat_minor": 2
}
