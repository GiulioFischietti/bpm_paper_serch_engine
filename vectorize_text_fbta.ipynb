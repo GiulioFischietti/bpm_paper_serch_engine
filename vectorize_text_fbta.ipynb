{
 "cells": [
  {
   "cell_type": "code",
   "execution_count": 16,
   "metadata": {},
   "outputs": [],
   "source": [
    "import sys\n",
    "sys.path.append(\"..\")\n",
    "\n",
    "import json\n",
    "\n",
    "import numpy as np\n",
    "import pandas as pd\n",
    "import torch\n",
    "\n",
    "from qdrant_client import QdrantClient\n",
    "from qdrant_client.http import models\n",
    "\n",
    "from tqdm.notebook import tqdm\n",
    "\n",
    "from config import QDRANT_HOST, QDRANT_PORT, QDRANT_API_KEY, OPENAI_API_KEY, DATA, COLLECTION_NAME\n"
   ]
  },
  {
   "attachments": {},
   "cell_type": "markdown",
   "metadata": {},
   "source": [
    "## Connect to Qdrant and create collection\n"
   ]
  },
  {
   "cell_type": "code",
   "execution_count": 17,
   "metadata": {},
   "outputs": [],
   "source": [
    "client = QdrantClient(host=QDRANT_HOST, port=QDRANT_PORT, api_key=QDRANT_API_KEY)\n",
    "# client.recreate_collection(\n",
    "#     collection_name=COLLECTION_NAME,\n",
    "#     vectors_config=models.VectorParams(size=384, distance=models.Distance.COSINE),\n",
    "# )\n"
   ]
  },
  {
   "attachments": {},
   "cell_type": "markdown",
   "metadata": {},
   "source": [
    "## Load Data into DataFrame\n"
   ]
  },
  {
   "cell_type": "code",
   "execution_count": null,
   "metadata": {},
   "outputs": [],
   "source": [
    "with open(f\"{DATA}/processed/articles.json\", \"r\") as file:\n",
    "    articles_json = json.load(file)\n",
    "\n",
    "rows = []\n",
    "for paper in tqdm(articles_json): \n",
    "    rows.append(\n",
    "        (\n",
    "            paper[\"title\"],\n",
    "            paper[\"link\"],\n",
    "            paper[\"abstract\"],\n",
    "            paper[\"body\"],\n",
    "        )\n",
    "    )\n",
    "\n",
    "df = pd.DataFrame(data=rows, columns=[\"title\", \"link\", \"abstract\", \"body\"])\n",
    "\n",
    "df = df[df[\"body\"].str.split().str.len() > 15]\n"
   ]
  },
  {
   "attachments": {},
   "cell_type": "markdown",
   "metadata": {},
   "source": [
    "# Instanciate Model"
   ]
  },
  {
   "cell_type": "code",
   "execution_count": 18,
   "metadata": {},
   "outputs": [],
   "source": [
    "from sentence_transformers import SentenceTransformer\n",
    "\n",
    "model = SentenceTransformer(\n",
    "    \"msmarco-MiniLM-L-6-v3\",\n",
    "    device=\"cuda\"\n",
    "    if torch.cuda.is_available()\n",
    "    else \"mps\"\n",
    "    if torch.backends.mps.is_available()\n",
    "    else \"cpu\",\n",
    ")"
   ]
  },
  {
   "attachments": {},
   "cell_type": "markdown",
   "metadata": {},
   "source": [
    "## Vectorize docs\n"
   ]
  },
  {
   "cell_type": "code",
   "execution_count": null,
   "metadata": {},
   "outputs": [],
   "source": [
    "vectors = []\n",
    "\n",
    "for doc in tqdm(df[\"body\"].to_list()):\n",
    "    vectors.append(model.encode(doc))"
   ]
  },
  {
   "cell_type": "code",
   "execution_count": 7,
   "metadata": {},
   "outputs": [
    {
     "name": "stdout",
     "output_type": "stream",
     "text": [
      "1103\n"
     ]
    }
   ],
   "source": [
    "print(len(vectors))"
   ]
  },
  {
   "cell_type": "code",
   "execution_count": null,
   "metadata": {},
   "outputs": [],
   "source": [
    "nsplit = 100\n",
    "batch_load_step = int(df.shape[0]/nsplit)\n",
    "\n",
    "for index in list(range(nsplit)):\n",
    "    print(vectors[batch_load_step*index:batch_load_step*(index+1)])"
   ]
  },
  {
   "cell_type": "code",
   "execution_count": 4,
   "metadata": {},
   "outputs": [
    {
     "data": {
      "text/plain": [
       "CollectionsResponse(collections=[CollectionDescription(name='papers')])"
      ]
     },
     "execution_count": 4,
     "metadata": {},
     "output_type": "execute_result"
    }
   ],
   "source": [
    "client.get_collections()"
   ]
  },
  {
   "cell_type": "code",
   "execution_count": 72,
   "metadata": {},
   "outputs": [
    {
     "data": {
      "text/plain": [
       "True"
      ]
     },
     "execution_count": 72,
     "metadata": {},
     "output_type": "execute_result"
    }
   ],
   "source": [
    "client.delete_collection(collection_name=\"papers\")"
   ]
  },
  {
   "cell_type": "code",
   "execution_count": 73,
   "metadata": {},
   "outputs": [
    {
     "data": {
      "text/plain": [
       "True"
      ]
     },
     "execution_count": 73,
     "metadata": {},
     "output_type": "execute_result"
    }
   ],
   "source": [
    "client.recreate_collection(\n",
    "    collection_name=\"papers\",\n",
    "    vectors_config=models.VectorParams(size=384, distance=models.Distance.COSINE),\n",
    ")"
   ]
  },
  {
   "attachments": {},
   "cell_type": "markdown",
   "metadata": {},
   "source": [
    "## Load data on Qdrant search engine"
   ]
  },
  {
   "cell_type": "code",
   "execution_count": null,
   "metadata": {},
   "outputs": [],
   "source": [
    "for index in list(range(nsplit)):\n",
    "    for _, row in df.iloc[list(range(batch_load_step*index, batch_load_step*(index+1)))].iterrows():\n",
    "        print(row['title'])"
   ]
  },
  {
   "cell_type": "code",
   "execution_count": null,
   "metadata": {},
   "outputs": [],
   "source": [
    "for vec in vectors:\n",
    "    print((list(vec)))"
   ]
  },
  {
   "cell_type": "code",
   "execution_count": null,
   "metadata": {},
   "outputs": [],
   "source": [
    "for index in tqdm(list(range(nsplit))):\n",
    "    client.upsert(\n",
    "        collection_name=COLLECTION_NAME,\n",
    "        points=models.Batch(\n",
    "            ids=list(range(batch_load_step*index, batch_load_step*(index+1))),\n",
    "            payloads=[\n",
    "                {\n",
    "                    \"body\": row[\"body\"],\n",
    "                    \"abstract\": row[\"abstract\"],\n",
    "                    \"title\": row[\"title\"],\n",
    "                    \"link\": row[\"link\"],\n",
    "                }\n",
    "                for _, row in df.iloc[list(range(batch_load_step*index, batch_load_step*(index+1)))].iterrows()\n",
    "            ],\n",
    "            vectors= [vec.tolist() for vec in vectors[batch_load_step*index:batch_load_step*(index+1)]],\n",
    "        ),\n",
    "    )"
   ]
  },
  {
   "cell_type": "code",
   "execution_count": 19,
   "metadata": {},
   "outputs": [
    {
     "name": "stdout",
     "output_type": "stream",
     "text": [
      "Stored 'query' (str)\n"
     ]
    }
   ],
   "source": [
    "query = \"how is artificial intelligence used in medical applications?\"\n",
    "%store query"
   ]
  },
  {
   "cell_type": "code",
   "execution_count": 20,
   "metadata": {},
   "outputs": [
    {
     "name": "stdout",
     "output_type": "stream",
     "text": [
      "Stored 'similar_docs' (list)\n"
     ]
    }
   ],
   "source": [
    "similar_docs = client.search(\n",
    "        collection_name=\"papers\",\n",
    "        query_vector=model.encode(query),\n",
    "        limit=6,\n",
    "        append_payload=True,\n",
    "    )\n",
    "\n",
    "%store similar_docs"
   ]
  },
  {
   "cell_type": "code",
   "execution_count": 21,
   "metadata": {},
   "outputs": [
    {
     "name": "stdout",
     "output_type": "stream",
     "text": [
      "[0.6329287] Research article\n",
      "Physicians’ attitudes and knowledge toward artificial intelligence in medicine: Benefits and drawbacks\n",
      "[0.5812633] Knowledge, attitudes and practices towards artificial intelligence (AI) among radiologists in Saudi Arabia\n",
      "[0.5647462] Patient views on the implementation of artificial intelligence in radiotherapy\n",
      "[0.55050915] Case of the Season: Artificial Intelligence in Clinical Practice—Large Vessel Occlusion Triage in Stroke Imaging\n",
      "[0.5367967] Applications of Artificial Intelligence in the Radiology Roundtrip: Process Streamlining, Workflow Optimization, and Beyond\n",
      "[0.5233896] Research article\n",
      "An architectural approach to modeling artificial general intelligence\n"
     ]
    }
   ],
   "source": [
    "for doc in similar_docs: \n",
    "    print(\"[\" + str(doc.score) + '] ' + doc.payload['title'])"
   ]
  },
  {
   "cell_type": "code",
   "execution_count": null,
   "metadata": {},
   "outputs": [],
   "source": []
  }
 ],
 "metadata": {
  "kernelspec": {
   "display_name": ".venv",
   "language": "python",
   "name": "python3"
  },
  "language_info": {
   "codemirror_mode": {
    "name": "ipython",
    "version": 3
   },
   "file_extension": ".py",
   "mimetype": "text/x-python",
   "name": "python",
   "nbconvert_exporter": "python",
   "pygments_lexer": "ipython3",
   "version": "3.10.9"
  },
  "orig_nbformat": 4,
  "vscode": {
   "interpreter": {
    "hash": "7f7d7ce7694bb4f4c294d506e5b6dc7957106f5332d820f0757e3d8cd7b1bbf8"
   }
  }
 },
 "nbformat": 4,
 "nbformat_minor": 2
}
