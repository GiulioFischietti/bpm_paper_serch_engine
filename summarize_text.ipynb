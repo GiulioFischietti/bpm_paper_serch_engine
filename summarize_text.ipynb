{
 "cells": [
  {
   "attachments": {},
   "cell_type": "markdown",
   "metadata": {},
   "source": [
    "# Summarize Texts\n",
    "In this notebook we summarize the paper using extractive summarization (BART) so that it can be fed into OpenAI gpt3.5 API.\n",
    "\n",
    "Papers can be long, so it is easy to exceed the 1024 token limit of BART.\n",
    "\n",
    "For this reason we approach ti summarization by splitting the paper in multiple parts before summarization, and then returning the complete document summarized."
   ]
  },
  {
   "cell_type": "code",
   "execution_count": 101,
   "metadata": {},
   "outputs": [],
   "source": [
    "from transformers import BartForConditionalGeneration, AutoTokenizer\n",
    "\n",
    "model_ckpt = \"sshleifer/distilbart-cnn-6-6\"\n",
    "tokenizer = AutoTokenizer.from_pretrained(model_ckpt)\n",
    "model = BartForConditionalGeneration.from_pretrained(model_ckpt)"
   ]
  },
  {
   "attachments": {},
   "cell_type": "markdown",
   "metadata": {},
   "source": [
    "Papers to summarize"
   ]
  },
  {
   "cell_type": "code",
   "execution_count": 102,
   "metadata": {},
   "outputs": [
    {
     "name": "stdout",
     "output_type": "stream",
     "text": [
      "1. Introduction\n",
      "Artificial intelligence (AI) has attracted substantial attention in recent years and is often regarded as heralding the fourth industrial revolution, in many expert assessments (, ). Developed countries have made significant investments in AI research and its application in healthcare. The COVID-19 epidemic has increased the demand for AI resources and knowledge in healthcare in order to reduce workload and diagnostic errors ().\n",
      "While the application of AI in radiological interpretations is well known, recent research has switched to investigating its potential in other domains to improve the efficiency and efficacy of radiologists. These applications include enhancing image collecting procedures, diagnosing pathology, increasing research productivity, optimizing radiation dosage, and providing high-quality medical treatment ().\n",
      "The shortage of radiologists is a critical issue that has been affecting the healthcare sector in Saudi Arabia and around the world (). This shortage results in a strain on the healthcare system, causing increased workloads for radiologists, longer waiting times for patients, and a decline in the quality of care provided. In Saudi Arabia, the shortage of radiologists is particularly pronounced, with a high demand for their services in both public and private healthcare settings. Moreover, In Saudi Arabia, less than 2% of medical students choose radiology as their specialty, with the top preferred specialties being general surgery, pediatrics, and internal medicine ().\n",
      "The adoption of AI in radiology has the potential to mitigate the shortage of radiologists by assisting in the interpretation of images and increasing the efficiency of the diagnostic process. Artificial intelligence systems can quickly analyze vast amounts of data, providing accurate and reliable results, which is essential in the diagnosis of various medical conditions, thereby freeing up time for radiologists to focus on other tasks. This not only improves the quality of care provided, but it also reduces the burden on radiologists, reducing the risk of burnout and increasing job satisfaction.\n",
      "Artificial intelligence has revolutionized the field of radiology and has become an indispensable tool for radiologists. The ability of AI quickly and accurately to identify patterns in medical images and data has made it an essential tool in radiology. Studies have found that AI can accurately identify diseases at levels comparable to human professionals (). However, integrating AI systems into medical imaging relies greatly on radiologists' abilities and competence, as they serve as a bridge between the technology and the patients.\n",
      "In addition to improving accuracy and efficiency, AI has the potential to play a crucial role in the development of new imaging techniques and the implementation of personalized medicine (Johnson et al., 2021a, ). Artificial intelligence algorithms can analyze vast amounts of medical data to identify new imaging techniques that can provide more accurate and reliable results (, ; ). In addition, AI can be used to develop personalized treatment plans for patients based on their individual medical histories and current conditions ().\n",
      "The future utilization of AI in radiology will be determined by several factors, including the availability of trained radiologists and the successful implementation of AI systems in clinical practice. Radiologists will need to be trained in the use of AI and its applications in radiology, and healthcare systems will need to invest in the development and implementation of AI systems. Furthermore, the successful integration of AI into clinical practice will depend on the availability of data and the development of ethical and legal frameworks to regulate its use ().\n",
      "As the AI revolution progresses, questions have been raised about its possible impact on the discipline of radiology and radiologists' roles. Our study will look at these concerns by analyzing the level of understanding among radiologists about the use of AI in diagnostic radiology. In this study, we hope to develop a baseline understanding of radiologists' expertise on the topic and highlight areas where instructional efforts on AI in diagnostic radiology may be required.\n",
      "2. Methods\n",
      "This study employed a cross-sectional, open survey design using an online questionnaire administered by Google Docs. Participants were radiologists who were invited through online requests to participate in the study, after explaining the objectives and utility of the study to them. The study was conducted from October 2022 to December 2022. A senior faculty member designed, reviewed, and validated the questionnaire, and extensive steps were taken to safeguard the anonymity of participants, since no personal information was collected or retained, and only the lead investigator had access to the data.\n",
      "A total of 129 radiologists from various healthcare centers and subspecialties participated in the survey. The questionnaire included questions on their demographic information, such as age, gender, level of qualification, and affiliated institute, as well as their knowledge and perceptions of AI and its applications. A pilot survey was conducted prior to the main study to ensure the usability and technical functionality of the online questionnaire. Respondents were able to review and change their answers, and duplicate entries were removed from the analysis. Only surveys completed by radiologist were included in the analysis, and incomplete surveys were excluded.\n",
      "The data were submitted to analysis, utilizing SPSS Version 26.0, and employing frequency tables to display the frequency distribution of the variables. A chi-squared test was performed to evaluate the statistical correlation between the variables, with a significance level of p < .05. In addition, univariate logistic regression was employed to calculate unadjusted odds ratios and their corresponding 95% confidence intervals.\n",
      "2.1. Statistical analysis\n",
      "This study used the SPSS Version 26.0 software to examine the data. Frequency tables were also used to analyze the demographic variables. Cross-tabulation and a chi-squared test were applied to determine the statistical association between the variables. The statistical significance was tested at the 5% level of significance, where <0.05 was considered significant.\n",
      "3. Results\n",
      "A total of 129 respondents completed the survey. A summary of the demographic variables is presented in . Of the 129 respondents, 104 (80.6%) are male and 49 (38.0%) belong to the 40–49 age group. A total of 63 respondents (48.8%) had postgraduate qualifications. The majority of respondents belonged to the public hospital and 76 respondents (58.9%) had obtained their qualifications from outside Saudi Arabia. Thirty-six respondents (27.9%) had been working for 11–15 years as radiologists, and 32 respondents (24.8%) had general radiology as a subspecialty. A total of 82 respondents (63.3%) use social media, and the majority of respondents use Facebook for professional purposes.\n",
      "It can be seen that the 40–49 age group had 11–15 years of working experience as a radiologist, while the 30–39 age group had 6–10 years of working experience as a radiologist. It can therefore be concluded that the majority belonged to the 40–49 age group who had more experience (Fig. 1).\n",
      "3.1. Education on AI\n",
      "The cross-tabulation and chi-squared findings are presented in . Respondents were questioned about their education on AI, and the majority of respondents indicated that they had heard about artificial intelligence/deep learning/machine learning. Of the 129 respondents (100%), 89 (69.0%) who had heard about AI had basic knowledge of artificial intelligence/deep learning/machine learning. A minority of respondents had advanced and intermediate knowledge of artificial intelligence/deep learning/machine learning. There is a statistically significant association between having heard of AI and the level of knowledge about artificial intelligence/deep learning/machine learning (p = .052).\n",
      "A cross-tabulation test was also performed between gender and AI education, the results of which are presented in . The majority of male respondents strongly disagreed that they had received training/teaching on AI during their primary degree in radiology (n = 45, 34.9%). Most male respondents disagreed that they had received training/teaching on AI at their workplace (n = 25, 19.4%). The majority of male respondents agreed that they had noticed an increase in articles/research papers pertaining to AI within radiology (n = 43, 33.3%).\n",
      "SD: Strongly disagree; D: Disagree; N: Neutral; A: Agree & SA: Strongly Agree.\n",
      "Most of the male respondents agreed that they would be interested in possible continuous professional development (CPD) courses on AI within the radiology sector (n = 46, 35.7%). Most of the male respondents agreed that radiology educational programs are regularly reviewed to develop AI skills within the profession (n = 33, 25.6%), and were neutral about radiology educational programs needing to be regularly reviewed to develop AI skills within the profession (n = 33, 25.6%). Comparing the male and female respondents, it can be seen that the male respondents had received more AI education than the female respondents ().\n",
      "3.2. Knowledge about AI\n",
      "Concerning knowledge about AI, respondents were asked about their AI knowledge to assess knowledge among radiologists in Saudi Arabia. The results in terms of gender and academic level are presented in . It was found that, of the 129 respondents (100%), most of the male respondents agreed with describing themselves as “someone who enjoys technology” (n = 40, 31.0%). The majority of male respondents were neutral about their knowledge of, or explaining, what an algorithm is (n = 35, 27.1%), but there were also male respondents who felt comfortable explaining what an algorithm is (n = 32, 24.8%). Most of the male respondents agreed that radiologists should embrace, adopt and adapt technology (n = 57,44.2%). The majority of male respondents agreed that they understand the differences between “machine learning,” “deep learning” and AI (n = 29, 22.5%). It was found that males have more knowledge about AI than females. The p-values of the chi-squared test are presented in .\n",
      "SD: Strongly disagree; D: Disagree; N: Neutral; A: Agree & SA: Strongly Agree.\n",
      "It was found that gender was a significant factor affecting knowledge about AI in respondents who stated that they enjoy technology (p = .037 < 0.05). There is a statistically insignificant association between gender and being able to explain algorithms (p = .209 > 0.05). There is a statistically insignificant association between gender and knowledge about the need for radiologists to embrace, adopt and adapt technology (p = .123 > 0.05). It was found that gender is a significant factor affecting knowledge about AI in terms of understanding the differences between machine learning (algorithm of AI), deep learning (algorithm of ML) and AI (p = .008 < 0.05).\n",
      "It was also found that knowledge about AI is affected by level of qualification; the results are presented in . It can be seen that the majority of the postgraduate respondents agreed to describe themselves as “someone who enjoys technology” (n = 24, 18.6%). Most of the postgraduate respondents were neutral about their knowledge of AI in terms of being comfortable explaining what an algorithm is (n = 24, 18.6%), and some postgraduate respondents agreed that radiologists should embrace, adopt and adapt technology (n = 36, 27.9%). The majority of postgraduate respondents disagreed with the statement that they understand the differences between “machine learning,” “deep learning” and AI (n = 20, 15.5%).\n",
      "SD: Strongly disagree; D: Disagree; N: Neutral; A: Agree & SA: Strongly Agree.\n",
      "Postgraduate respondents were found to have more knowledge of AI than respondents with PhDs and research fellowships. The p-values of the chi-squared test are presented in . It can be observed that academic level is an insignificant factor in terms of affecting knowledge about AI in “someone who enjoys technology” (p = .795 > 0.05). There is a statistically insignificant association between academic level and being able to explain algorithms (p = .954 > 0.05). There is a statistically insignificant association between academic level and the belief that radiologists should embrace, adopt and adapt technology (p = .712 > 0.05). It was found that academic level is an insignificant factor affecting knowledge about AI in terms of understanding the differences between “machine learning,” “deep learning” and AI (p = .133 > 0.05).\n",
      "3.3. Attitude towards AI\n",
      "Concerning attitudes towards AI, individuals were asked about their assessment of attitudes towards AI among radiologists in Saudi Arabia; the results are presented in Table 6. The majority of the male respondents agreed that they were apprehensive about the introduction of AI in the radiology field (n = 37, 28.7%). Most of the male respondents agreed that they were excited about the advancement of AI's role in radiology (n = 44, 34.1%).The majority of the male respondents agreed that they thought AI already plays an important role within radiology (n = 48, 37.2%). Most of the male respondents agreed that they thought patients' experiences would be improved by further implementation of AI (n = 44, 34.1%). Most of the male respondents disagreed or were neutral about the statement that AI is going to replace radiologists (n = 27, 20.9%). The majority of the male respondents agreed that they believe it will take more time for AI to affect the role of radiologists (n = 49, 38.0%). It was found that males have more knowledge about AI than females.\n",
      "SD: Strongly disagree; D: Disagree; N: Neutral; A: Agree & SA: Strongly Agree.\n",
      "The p-values of the chi-squared test are presented in . It was found that gender is an insignificant factor affecting attitudes about AI in terms of apprehension about the introduction of AI in the radiology field (p = .170 > 0.05). It was found that gender is a significant factor affecting attitudes about AI in terms of the advancement of AI's role in radiology (p = .023 < 0.05). There is a statistically insignificant association between gender and attitudes about AI in terms of whether respondents believe that AI already plays an important role within radiology (p = .647 > 0.05). There is also a statistically insignificant relationship between gender and attitudes about AI in terms of whether respondents believe that patients' experiences would be improved with the further implementation of AI (p = .615 > 0.05). It was found that gender is an insignificant factor affecting attitudes about AI in terms of whether respondents believe that AI is going to replace radiologists (p = .974 > 0.05). There is also a statistically insignificant association between gender and attitudes about AI in terms of whether respondents believe it will take more time for AI to affect the role of radiologists (p = .238 > 0.05).\n",
      "The results on knowledge about AI in relation to level of qualification are presented in . The majority of postgraduate respondents agreed that they are apprehensive about the introduction of AI into the radiology field (n = 21, 16.3%). Most of the postgraduate respondents agreed that they are excited about the advancement of AI's role in radiology (n = 27, 20.9%). The majority of the postgraduate respondents agreed that they thought AI already plays an important role within radiology (n = 31, 24.0%). Most of the postgraduate respondents agreed that they thought patients' experiences would be improved with further implementation of AI (n = 32, 24.8%). Most of the postgraduate respondents disagreed that they thought AI is going to replace radiologists (n = 18, 14.0%). The majority of the postgraduate respondents agreed that they thought it will take more time for AI to affect the role of radiologists (n = 28, 21.7%). Postgraduate respondents were found to have more knowledge about AI than respondents with PhDs and research fellowships.\n",
      "SD: Strongly disagree; D: Disagree; N: Neutral; A: Agree & SA: Strongly Agree.\n",
      "The p-values are presented in . It was found that academic level is an insignificant factor affecting the attitudes about AI in terms of apprehension about the introduction of AI into the radiology field (p = .499 > 0.05). It was found that academic level is an insignificant factor affecting the attitudes about AI in terms of being excited about the advancement of AI's role in radiology (p = .631 > 0.05). There is a statistically insignificant association between academic level and attitudes about AI in terms of the belief that AI already plays an important role within radiology (p = .980 > 0.05). There is also a statistically insignificant relationship between academic level and attitudes about AI in terms of the belief that patients' experiences would be improved with further implementation of AI (p = .484 > 0.05). It was found that academic level is an insignificant factor affecting attitudes about AI in terms of the belief that AI is going to replace radiologists (p = .873 > 0.05). There is also a statistically insignificant association between academic level and attitudes about AI in terms of the belief that it will take more time for AI to affect the role of radiologists (p = .355 > 0.05).\n",
      "3.4. Practices regarding AI\n",
      "Concerning practices regarding AI, respondents were asked questions about assessment of practice and its effect regarding AI among radiologists in Saudi Arabia; the results are presented in . The majority of the male respondents agreed that AI will affect patient scheduling (n = 38, 29.5%). It was found that 43 male respondents (33.3%) agreed that AI already plays an important role within radiology. Most of the male respondents agreed that AI will affect communication and patient care (n = 39, 30.2%), and 45 male respondents (34.9%) agreed that AI will affect image interpretation. Male respondents were found to have more knowledge about AI than females. It was found that gender is an insignificant factor in terms of how AI will affect patient scheduling (p = .570 > 0.05). It was found that gender has an insignificant association with the belief that AI already plays an important role within radiology (p = .296 > 0.05). There is an insignificant association between gender and attitudes on how AI will affect communication and patient care (p = .754 > 0.05). There is also an insignificant association between gender and attitudes on how AI will affect image interpretation (p = .196 > 0.05).\n",
      "Factors\n",
      "Empty Cell\n",
      "Gender\n",
      "Empty Cell\n",
      "Empty Cell\n",
      "Female n (%) Male n (%) p-value\n",
      "AI will affect the patient scheduling. A 13(10.1) 38(29.5) .570\n",
      "D 2(1.6) 13(10.1)\n",
      "N 7(5.4) 35(27.1)\n",
      "SA 2(1.6) 16(12.4)\n",
      "SD 1(0.8) 2(1.6)\n",
      "SA 2(1.6) 18(14.0)\n",
      "SD 0(0.0) 2(1.6)\n",
      "I think AI already plays an important role within Radiology. A 15(11.6) 43(33.3) .296\n",
      "D 4(3.1) 11(8.5)\n",
      "N 4(3.1) 33(25.6)\n",
      "SA 2(1.6) 15(11.6)\n",
      "SD 0(0.0) 2(1.6)\n",
      "SA 1(0.8) 12(9.3)\n",
      "SD 1(0.8) 4(3.1)\n",
      "AI will affect the communication and patient care. A 10(7.8) 39(30.2) .754\n",
      "D 2(1.6) 8(6.2)\n",
      "N 10(7.8) 34(26.4)\n",
      "SA 3(2.3) 18(14.0)\n",
      "SD 0(0.0) 5(3.9)\n",
      "AI will affect the image interpretation. A 12(9.3) 45(34.9) .196\n",
      "D 4(3.1) 5(3.9)\n",
      "N 4(3.1) 23(17.8)\n",
      "SA 5(3.9) 23(17.8)\n",
      "SD 0(0.0) 8(6.2)\n",
      "SD: Strongly disagree; D: Disagree; N: Neutral; A: Agree & SA: Strongly Agree\n",
      "The relationship between practice regarding AI and level of qualification was also investigated; the results are presented in . The majority of the postgraduate respondents agreed that AI will affect patient scheduling (n = 27, 20.9%). It was found that 30 postgraduate respondents (23.3%) agreed that AI already plays an important role within radiology. Most of the postgraduate respondents agreed, or were neutral on the issue, that AI will affect communication and patient care (n = 24, 18.6%), and 30 postgraduate respondents (23.3%) agreed that AI will affect image interpretation. Postgraduate respondents were found to have more knowledge about AI than respondents with PhDs and research fellowships.\n",
      "Table 9. Cross tabs and chi-square between academic level and practice towards AI.\n",
      "SD: Strongly disagree; D: Disagree; N: Neutral; A: Agree & SA: Strongly Agree.\n",
      "It was found that academic level is an insignificant factor in terms of the belief as to whether AI will affect patient scheduling (p = .789 > 0.05). It was observed that academic level has an insignificant association with the belief as to whether AI already plays an important role within radiology (p = .469 > 0.05). There is also an insignificant association between academic level and the belief as to whether AI will affect image interpretation (p = .659 > 0.05).\n",
      "4. Discussion\n",
      "This study sheds light on the understanding of AI among radiologists in Saudi Arabia, which is an important aspect considering the impact AI is having on the healthcare industry. The results of this study indicate that the majority of respondents have a basic understanding of AI and its applications in radiology. Out of 129 respondents (100%), 89 (69.0%) respondents who had heard about AI had basic knowledge of artificial intelligence/deep learning/machine learning, which is in line with a previous study conducted by Huisman et al. (). However, the results also reveal that there is still a significant gap in the knowledge about AI and its limitations, which needs to be addressed, as only a minority of respondents had advanced and intermediate knowledge of artificial intelligence/deep learning/machine learning. There is a statistically significant association between having heard of AI and the level of knowledge about artificial intelligence/deep learning/machine learning (p = .052). However, our study indicated a more positive attitude towards AI by radiologists compared to other studies, such as that of Tajaldeen et al. ().\n",
      "In comparison with other studies, this study indicates that the level of knowledge about AI among radiologists in Saudi Arabia is now higher than that in other countries. For example, a study conducted by Waymel et al. found that radiologists had an insufficient understanding of AI, and that there was a need for more training and education to increase their knowledge of the technology, as a significant majority of those surveyed, 73%, lacked a sufficient understanding of AI. On the other hand, only 23% of those surveyed were considered to have a basic knowledge of the topic, as defined by the authors themselves. This highlights the need for increased education and understanding of AI, as it continues to rapidly develop and play an increasingly prominent role in society (Waymel et al., 2019a, ). Whereas our study shows that 89 respondents (69.0%) who had heard about AI had basic knowledge of artificial intelligence/deep learning/machine learning, others studies on the same topic have indicated less acceptability and knowledge, but were also conducted with a very small sample, such as the study by Asharif et al. (), which only included 30 respondents. By comparison, in our study the total number of respondents was 129, and 89 respondents (69.0%) agreed that they had a basic knowledge of AI.\n",
      "The results of this study also highlight the importance of continuous education and training for radiologists to keep pace with the rapidly evolving field of AI. This is especially relevant in Saudi Arabia, where there is a need to keep up with the latest advancements in technology and their practical applications in the healthcare industry (). It is crucial for radiologists to have a good understanding of AI and its limitations, as this will help them to better integrate the technology into their work processes and make informed decisions about its use.\n",
      "However, in the cross-tabulation tests, an interesting association is seen with gender, where males were found to have more AI education than females and were ready to learn more about it (). It was also found that gender is a significant factor affecting knowledge about AI in terms of understanding the differences between “machine learning,” “deep learning” and AI (p = .008 < 0.05). In terms of academic level, postgraduate respondents were found to have more knowledge about AI than respondents with PhDs and research fellowships. The p-values of the chi-squared test are presented in .\n",
      "When it comes to the attitude, the results indicate that the majority of the respondents have a positive attitude towards AI and its importance in radiology (44.2%). However, this positive attitude was exhibited more by males (37.2%) than females (7.0%), and, in terms of academic level, more by postgraduates (24.0%). While the majority of respondents had a positive outlook, only 17.0% of respondents indicated concern that AI will replace their jobs, which is not in line with other jobs, as most previous studies have demonstrated that more respondents have this concern (). This can be explained by a higher percentage of basic knowledge and positive attitudes towards AI, giving radiologists enough insight that AI will only assist them and not replace them completely. However, many respondents believe that AI will affect communication and patient care (38.0%).\n",
      "The above highlights the need for continued research on the topic and the importance of addressing the concerns of healthcare professionals, as well as promoting the potential benefits of AI in the healthcare sector. This can be achieved through continuous education and training, as well as addressing the limitations and improving the accuracy and reliability of AI systems. Ultimately, the goal is to ensure that the implementation of AI in the healthcare sector is beneficial for both patients and healthcare professionals.\n",
      "Furthermore, the desire of the respondents in this study to learn more about AI (43.5%) and integrate it into their future practice aligns with the growing trend of healthcare professionals seeking to improve their knowledge and understanding of the technology. It highlights the importance of providing targeted and specific training opportunities to radiologists to help them effectively incorporate AI into their practice. Such programs can be designed to address the specific challenges and barriers faced by radiologists in terms of the implementation of AI in their clinical practice.\n",
      "While considering the future implications of AI in radiology, AI can improve imaging quality. By using AI to reconstruct medical images, radiologists can potentially obtain clearer and more detailed images even from low-quality scans. This could help to reduce the need for repeat scans and minimize the risks associated with exposure to radiation.\n",
      "AI also has the potential to assist radiologists in their workflow. By using AI algorithms to prioritize and triage cases based on the urgency of the patient's condition, radiologists can potentially improve their efficiency and reduce wait times for patients.\n",
      "Furthermore AI can assist radiologists in detecting subtle changes in medical images that may be missed by the human eye. This could help to improve the accuracy of diagnoses and lead to better patient outcomes.\n",
      "It is important to note that the sample size of this study may have limited the representativeness of the results. A smaller sample size can lead to selection bias, where the respondents may not be representative of the entire population of radiologists in Saudi Arabia. This can result in an over- or under-estimation of the level of knowledge, attitudes, and practices towards AI among the radiologists in the country. In addition, the sample may have been subject to a self-selection bias, where only those radiologists who are more interested or knowledgeable about AI may have participated in the study. This can further limit the generalizability of the results so that they do not accurately reflect the views and experiences of all radiologists in Saudi Arabia. Therefore, it is recommended that future studies use a larger and more diverse sample to increase the representativeness of the results and enhance the generalizability of the findings.\n",
      "5. Conclusion\n",
      "In conclusion, the study aimed to evaluate the knowledge, attitudes, and practices towards AI among radiologists in Saudi Arabia. The findings of the study provide a comprehensive overview of the current level of understanding and utilization of AI in radiology among the radiologists in the region. The results suggest that radiologists have a basic knowledge of AI and are eager to incorporate it into their field; however, there is a need for further training to increase radiologists’ applications in the field. In addition, addressing the concerns about the reliability and accuracy of AI systems will be essential in promoting wider adoption of AI in radiology. It is recommended that initiatives be put in place to increase exposure to AI and facilitate its integration into daily work to enhance its benefits and impact on patient care.\n",
      "Declaration of competing interest\n",
      "None.\n",
      "Acknowledgments\n",
      "The authors would like to extend their sincere appreciation to the Researchers supporting program for funding this work under Researchers Supporting Project number (RSPD2023R780), King Saud University, P.O. Box 145111, Riyadh 4545, Saudi Arabia.\n"
     ]
    }
   ],
   "source": [
    "%store -r similar_docs\n",
    "print(similar_docs[1].payload['body'])"
   ]
  },
  {
   "attachments": {},
   "cell_type": "markdown",
   "metadata": {},
   "source": [
    "Tokenize the documents"
   ]
  },
  {
   "cell_type": "code",
   "execution_count": 103,
   "metadata": {},
   "outputs": [
    {
     "name": "stderr",
     "output_type": "stream",
     "text": [
      "100%|██████████| 6/6 [00:00<00:00, 26.43it/s]\n"
     ]
    }
   ],
   "source": [
    "import torch\n",
    "from tqdm import tqdm\n",
    "import math\n",
    "\n",
    "device = torch.device(\"cuda\" if torch.cuda.is_available() else \"cpu\")\n",
    "\n",
    "input_ids = [tokenizer(doc.payload['body'], padding='max_length', return_tensors='pt').to(device) for doc in tqdm(similar_docs)]"
   ]
  },
  {
   "attachments": {},
   "cell_type": "markdown",
   "metadata": {},
   "source": [
    "Split"
   ]
  },
  {
   "cell_type": "code",
   "execution_count": 86,
   "metadata": {},
   "outputs": [
    {
     "data": {
      "text/plain": [
       "3678"
      ]
     },
     "execution_count": 86,
     "metadata": {},
     "output_type": "execute_result"
    }
   ],
   "source": [
    "len(input_ids[0]['input_ids'][0])"
   ]
  },
  {
   "cell_type": "code",
   "execution_count": 105,
   "metadata": {},
   "outputs": [
    {
     "name": "stdout",
     "output_type": "stream",
     "text": [
      "0 - 1024\n",
      "1024 - 2048\n",
      "2048 - 3072\n",
      "3072 - 3678\n",
      "0 - 1024\n",
      "1024 - 2048\n",
      "2048 - 3072\n",
      "3072 - 4096\n",
      "4096 - 5120\n",
      "5120 - 6111\n",
      "0 - 1024\n",
      "1024 - 2048\n",
      "2048 - 3072\n",
      "3072 - 3579\n",
      "0 - 1024\n",
      "1024 - 1756\n",
      "0 - 1024\n",
      "1024 - 2048\n",
      "2048 - 3072\n",
      "3072 - 4096\n",
      "4096 - 5120\n",
      "5120 - 6144\n",
      "6144 - 6333\n",
      "0 - 1024\n",
      "1024 - 2048\n",
      "2048 - 3072\n",
      "3072 - 4096\n",
      "4096 - 5120\n",
      "5120 - 6144\n",
      "6144 - 6441\n"
     ]
    },
    {
     "name": "stderr",
     "output_type": "stream",
     "text": [
      "C:\\Users\\fisch\\AppData\\Local\\Temp\\ipykernel_23644\\680924153.py:11: UserWarning: To copy construct from a tensor, it is recommended to use sourceTensor.clone().detach() or sourceTensor.clone().detach().requires_grad_(True), rather than torch.tensor(sourceTensor).\n",
      "  token_splits.append({ \"input_ids\": torch.tensor(input_id['input_ids'][0][index*max_size:(index+1)*max_size]).unsqueeze(0),\n",
      "C:\\Users\\fisch\\AppData\\Local\\Temp\\ipykernel_23644\\680924153.py:12: UserWarning: To copy construct from a tensor, it is recommended to use sourceTensor.clone().detach() or sourceTensor.clone().detach().requires_grad_(True), rather than torch.tensor(sourceTensor).\n",
      "  \"attention_mask\": torch.tensor(input_id['attention_mask'][0][index*max_size:(index+1)*max_size]).unsqueeze(0)})\n",
      "C:\\Users\\fisch\\AppData\\Local\\Temp\\ipykernel_23644\\680924153.py:15: UserWarning: To copy construct from a tensor, it is recommended to use sourceTensor.clone().detach() or sourceTensor.clone().detach().requires_grad_(True), rather than torch.tensor(sourceTensor).\n",
      "  token_splits.append({ \"input_ids\": torch.tensor(input_id['input_ids'][0][index*max_size:len(input_id[0])%max_size + index*max_size]).unsqueeze(0),\n",
      "C:\\Users\\fisch\\AppData\\Local\\Temp\\ipykernel_23644\\680924153.py:16: UserWarning: To copy construct from a tensor, it is recommended to use sourceTensor.clone().detach() or sourceTensor.clone().detach().requires_grad_(True), rather than torch.tensor(sourceTensor).\n",
      "  \"attention_mask\": torch.tensor(input_id['attention_mask'][0][index*max_size:len(input_id[0])%max_size + index*max_size]).unsqueeze(0)})\n"
     ]
    }
   ],
   "source": [
    "max_size = 1024\n",
    "\n",
    "documents_tokenized = []\n",
    "\n",
    "for input_id in input_ids:\n",
    "    n_splits = math.ceil(len(input_id[0])/max_size)\n",
    "    token_splits = []\n",
    "    for index in list(range(n_splits)):\n",
    "        if(index != n_splits-1):\n",
    "            print(str(index*max_size) + \" - \" + str((index+1)*max_size))\n",
    "            token_splits.append({ \"input_ids\": torch.tensor(input_id['input_ids'][0][index*max_size:(index+1)*max_size]).unsqueeze(0), \n",
    "                                \"attention_mask\": torch.tensor(input_id['attention_mask'][0][index*max_size:(index+1)*max_size]).unsqueeze(0)})\n",
    "        else:\n",
    "            print(str(index*max_size) + \" - \" + str(len(input_id[0])%max_size + index*max_size))\n",
    "            token_splits.append({ \"input_ids\": torch.tensor(input_id['input_ids'][0][index*max_size:len(input_id[0])%max_size + index*max_size]).unsqueeze(0), \n",
    "                            \"attention_mask\": torch.tensor(input_id['attention_mask'][0][index*max_size:len(input_id[0])%max_size + index*max_size]).unsqueeze(0)})\n",
    "    \n",
    "    documents_tokenized.append(token_splits)"
   ]
  },
  {
   "cell_type": "code",
   "execution_count": 106,
   "metadata": {},
   "outputs": [
    {
     "name": "stderr",
     "output_type": "stream",
     "text": [
      "100%|██████████| 4/4 [00:40<00:00, 10.18s/it]\n",
      "100%|██████████| 6/6 [01:03<00:00, 10.60s/it]\n",
      "100%|██████████| 4/4 [00:41<00:00, 10.47s/it]\n",
      "100%|██████████| 2/2 [00:18<00:00,  9.47s/it]\n",
      "100%|██████████| 7/7 [01:08<00:00,  9.86s/it]\n",
      "100%|██████████| 7/7 [01:10<00:00, 10.04s/it]\n",
      "100%|██████████| 6/6 [05:04<00:00, 50.74s/it]\n"
     ]
    }
   ],
   "source": [
    "summaries = []\n",
    "\n",
    "for doc_tokenized in tqdm(documents_tokenized):\n",
    "    doc_summary = []\n",
    "    for index in tqdm(list(range(len(doc_tokenized)))):\n",
    "        doc_summary.append(model.generate(input_ids=doc_tokenized[index]['input_ids'], \n",
    "                            attention_mask=doc_tokenized[index]['attention_mask'],\n",
    "                            min_length=16, \n",
    "                            max_length=64))\n",
    "    summaries.append(doc_summary)"
   ]
  },
  {
   "cell_type": "code",
   "execution_count": 107,
   "metadata": {},
   "outputs": [],
   "source": [
    "text_summaries = []\n",
    "\n",
    "for summary in summaries:\n",
    "    text_summary = \"\"\n",
    "\n",
    "    for split in summary:\n",
    "        extracted_summary = tokenizer.decode(split[0], skip_special_tokens=True, clean_up_tokenization_spaces=True)\n",
    "    \n",
    "        if (\".\" in extracted_summary):\n",
    "            text_summary += (\".\".join(extracted_summary.split(\".\")[0:-1])) + \"\\n\"\n",
    "        else:\n",
    "            text_summary += extracted_summary + \"\\n\"\n",
    "    \n",
    "    text_summaries.append(text_summary)"
   ]
  },
  {
   "cell_type": "code",
   "execution_count": 108,
   "metadata": {},
   "outputs": [
    {
     "name": "stdout",
     "output_type": "stream",
     "text": [
      "Stored 'text_summaries' (list)\n"
     ]
    }
   ],
   "source": [
    "%store text_summaries"
   ]
  },
  {
   "cell_type": "code",
   "execution_count": null,
   "metadata": {},
   "outputs": [],
   "source": []
  }
 ],
 "metadata": {
  "kernelspec": {
   "display_name": "base",
   "language": "python",
   "name": "python3"
  },
  "language_info": {
   "codemirror_mode": {
    "name": "ipython",
    "version": 3
   },
   "file_extension": ".py",
   "mimetype": "text/x-python",
   "name": "python",
   "nbconvert_exporter": "python",
   "pygments_lexer": "ipython3",
   "version": "3.10.9"
  },
  "orig_nbformat": 4
 },
 "nbformat": 4,
 "nbformat_minor": 2
}
